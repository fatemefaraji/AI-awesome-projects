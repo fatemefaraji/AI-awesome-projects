{
  "nbformat": 4,
  "nbformat_minor": 0,
  "metadata": {
    "colab": {
      "provenance": [],
      "gpuType": "V28"
    },
    "kernelspec": {
      "name": "python3",
      "display_name": "Python 3"
    },
    "language_info": {
      "name": "python"
    },
    "accelerator": "TPU"
  },
  "cells": [
    {
      "cell_type": "code",
      "source": [
        "!pip install scikit-surprise\n"
      ],
      "metadata": {
        "colab": {
          "base_uri": "https://localhost:8080/"
        },
        "id": "SrYqJR71mmWz",
        "outputId": "716b3116-2a02-4259-be76-a93633d27f63"
      },
      "execution_count": 1,
      "outputs": [
        {
          "output_type": "stream",
          "name": "stdout",
          "text": [
            "Collecting scikit-surprise\n",
            "  Downloading scikit_surprise-1.1.4.tar.gz (154 kB)\n",
            "\u001b[?25l     \u001b[90m━━━━━━━━━━━━━━━━━━━━━━━━━━━━━━━━━━━━━━━━\u001b[0m \u001b[32m0.0/154.4 kB\u001b[0m \u001b[31m?\u001b[0m eta \u001b[36m-:--:--\u001b[0m\r\u001b[2K     \u001b[91m━━━━━━━━━━━━━━━━━━━━━━━━━━━━━━━━━━━━━━━\u001b[0m\u001b[91m╸\u001b[0m \u001b[32m153.6/154.4 kB\u001b[0m \u001b[31m5.1 MB/s\u001b[0m eta \u001b[36m0:00:01\u001b[0m\r\u001b[2K     \u001b[90m━━━━━━━━━━━━━━━━━━━━━━━━━━━━━━━━━━━━━━━━\u001b[0m \u001b[32m154.4/154.4 kB\u001b[0m \u001b[31m3.5 MB/s\u001b[0m eta \u001b[36m0:00:00\u001b[0m\n",
            "\u001b[?25h  Installing build dependencies ... \u001b[?25l\u001b[?25hdone\n",
            "  Getting requirements to build wheel ... \u001b[?25l\u001b[?25hdone\n",
            "  Preparing metadata (pyproject.toml) ... \u001b[?25l\u001b[?25hdone\n",
            "Requirement already satisfied: joblib>=1.2.0 in /usr/local/lib/python3.10/dist-packages (from scikit-surprise) (1.4.2)\n",
            "Requirement already satisfied: numpy>=1.19.5 in /usr/local/lib/python3.10/dist-packages (from scikit-surprise) (1.26.4)\n",
            "Requirement already satisfied: scipy>=1.6.0 in /usr/local/lib/python3.10/dist-packages (from scikit-surprise) (1.13.1)\n",
            "Building wheels for collected packages: scikit-surprise\n",
            "  Building wheel for scikit-surprise (pyproject.toml) ... \u001b[?25l\u001b[?25hdone\n",
            "  Created wheel for scikit-surprise: filename=scikit_surprise-1.1.4-cp310-cp310-linux_x86_64.whl size=2357280 sha256=0f70282ad44c031c76a6d0fc6547a3f0d943c97dd53959c0fb95db87d48015cb\n",
            "  Stored in directory: /root/.cache/pip/wheels/4b/3f/df/6acbf0a40397d9bf3ff97f582cc22fb9ce66adde75bc71fd54\n",
            "Successfully built scikit-surprise\n",
            "Installing collected packages: scikit-surprise\n",
            "Successfully installed scikit-surprise-1.1.4\n"
          ]
        }
      ]
    },
    {
      "cell_type": "code",
      "execution_count": 2,
      "metadata": {
        "id": "Wm6GFwk6fsNU"
      },
      "outputs": [],
      "source": [
        "import pandas as pd\n",
        "from surprise import Dataset, Reader\n",
        "from surprise import KNNBasic\n",
        "from surprise.model_selection import train_test_split\n",
        "from surprise import accuracy\n",
        "import os\n",
        "import kagglehub\n",
        "import pandas as pd"
      ]
    },
    {
      "cell_type": "code",
      "source": [
        "path = kagglehub.dataset_download(\"saurav9786/amazon-product-reviews\")\n",
        "print(\"Path to dataset files:\", path)"
      ],
      "metadata": {
        "colab": {
          "base_uri": "https://localhost:8080/"
        },
        "id": "T5E3O2RVfthS",
        "outputId": "e45c0465-923e-4e8d-e722-53baad4aa319"
      },
      "execution_count": 6,
      "outputs": [
        {
          "output_type": "stream",
          "name": "stdout",
          "text": [
            "Warning: Looks like you're using an outdated `kagglehub` version (installed: 0.3.5), please consider upgrading to the latest version (0.3.6).\n",
            "Downloading from https://www.kaggle.com/api/v1/datasets/download/saurav9786/amazon-product-reviews?dataset_version_number=1...\n"
          ]
        },
        {
          "output_type": "stream",
          "name": "stderr",
          "text": [
            "100%|██████████| 109M/109M [00:00<00:00, 143MB/s] "
          ]
        },
        {
          "output_type": "stream",
          "name": "stdout",
          "text": [
            "Extracting files...\n"
          ]
        },
        {
          "output_type": "stream",
          "name": "stderr",
          "text": [
            "\n"
          ]
        },
        {
          "output_type": "stream",
          "name": "stdout",
          "text": [
            "Path to dataset files: /root/.cache/kagglehub/datasets/saurav9786/amazon-product-reviews/versions/1\n"
          ]
        }
      ]
    },
    {
      "cell_type": "code",
      "source": [
        "\n",
        "\n",
        "dataset_path = '/root/.cache/kagglehub/datasets/saurav9786/amazon-product-reviews'\n",
        "if os.path.exists(dataset_path):\n",
        "    print(\"Files in the dataset folder:\", os.listdir(dataset_path))\n",
        "else:\n",
        "    print(f\"Directory does not exist: {dataset_path}\")"
      ],
      "metadata": {
        "colab": {
          "base_uri": "https://localhost:8080/"
        },
        "id": "-jL-XJ0Bn3AL",
        "outputId": "8a1511e0-9e2c-4c0a-91f3-214423048582"
      },
      "execution_count": 7,
      "outputs": [
        {
          "output_type": "stream",
          "name": "stdout",
          "text": [
            "Files in the dataset folder: ['versions', '1.complete']\n"
          ]
        }
      ]
    },
    {
      "cell_type": "code",
      "source": [
        "file_path = '/root/.cache/kagglehub/datasets/saurav9786/amazon-product-reviews/versions/1/ratings_Electronics (1).csv'\n",
        "data = pd.read_csv(file_path)"
      ],
      "metadata": {
        "id": "hV9tgzzbftm1"
      },
      "execution_count": 8,
      "outputs": []
    },
    {
      "cell_type": "code",
      "source": [
        "data = pd.read_csv(file_path, names=[\"userId\", \"productId\", \"Rating\", \"timestamp\"], header=0)"
      ],
      "metadata": {
        "id": "_JEhMkZMiYxr"
      },
      "execution_count": 9,
      "outputs": []
    },
    {
      "cell_type": "code",
      "source": [
        "data = data[[\"userId\", \"productId\", \"Rating\"]]"
      ],
      "metadata": {
        "id": "blQThJwUiFIj"
      },
      "execution_count": 10,
      "outputs": []
    },
    {
      "cell_type": "code",
      "source": [
        "data = data.iloc[:100000]"
      ],
      "metadata": {
        "id": "G1hnqaJwiGQ3"
      },
      "execution_count": 11,
      "outputs": []
    },
    {
      "cell_type": "code",
      "source": [
        "reader = Reader(rating_scale=(1, 5))\n",
        "dataset = Dataset.load_from_df(data, reader)"
      ],
      "metadata": {
        "id": "4TTRrbCCkTDH"
      },
      "execution_count": 12,
      "outputs": []
    },
    {
      "cell_type": "code",
      "source": [
        "trainset, testset = train_test_split(dataset, test_size=0.25, random_state=42)"
      ],
      "metadata": {
        "id": "MOAomWzNikZ_"
      },
      "execution_count": 13,
      "outputs": []
    },
    {
      "cell_type": "markdown",
      "source": [
        "User Based System"
      ],
      "metadata": {
        "id": "TAf-wYLKisyh"
      }
    },
    {
      "cell_type": "code",
      "source": [
        "print(\"User-Based Collaborative Filtering:\")\n",
        "sim_options_user = {\n",
        "    \"name\": \"cosine\",\n",
        "    \"user_based\": True,\n",
        "}\n",
        "model_user = KNNBasic(sim_options=sim_options_user)\n",
        "model_user.fit(trainset)\n",
        "predictions_user = model_user.test(testset)\n",
        "print(\"User-Based RMSE:\", accuracy.rmse(predictions_user))\n"
      ],
      "metadata": {
        "colab": {
          "base_uri": "https://localhost:8080/"
        },
        "id": "eKFIhiTKikdL",
        "outputId": "f7a1fcdb-d81d-4cdb-8c03-5314a35fd46a"
      },
      "execution_count": 14,
      "outputs": [
        {
          "output_type": "stream",
          "name": "stdout",
          "text": [
            "User-Based Collaborative Filtering:\n",
            "Computing the cosine similarity matrix...\n",
            "Done computing similarity matrix.\n",
            "RMSE: 1.3504\n",
            "User-Based RMSE: 1.3503507780248063\n"
          ]
        }
      ]
    },
    {
      "cell_type": "markdown",
      "source": [
        "Item Based System"
      ],
      "metadata": {
        "id": "Hc3R6qUji2P_"
      }
    },
    {
      "cell_type": "code",
      "source": [
        "print(\"\\nItem-Based Collaborative Filtering:\")\n",
        "sim_options_item = {\n",
        "    \"name\": \"cosine\",\n",
        "    \"user_based\": False,\n",
        "}\n",
        "model_item = KNNBasic(sim_options=sim_options_item)\n",
        "model_item.fit(trainset)\n",
        "predictions_item = model_item.test(testset)\n",
        "print(\"Item-Based RMSE:\", accuracy.rmse(predictions_item))\n"
      ],
      "metadata": {
        "id": "kwTtMvQmiIIa",
        "colab": {
          "base_uri": "https://localhost:8080/"
        },
        "outputId": "9d650ecf-f4ea-4fd9-f73a-35cc973963c2"
      },
      "execution_count": 15,
      "outputs": [
        {
          "output_type": "stream",
          "name": "stdout",
          "text": [
            "\n",
            "Item-Based Collaborative Filtering:\n",
            "Computing the cosine similarity matrix...\n",
            "Done computing similarity matrix.\n",
            "RMSE: 1.3520\n",
            "Item-Based RMSE: 1.3520010137832479\n"
          ]
        }
      ]
    },
    {
      "cell_type": "code",
      "source": [
        "def get_recommendations(model, user_id, n=5):\n",
        "    user_ratings = data[data[\"userId\"] == user_id][\"productId\"].tolist()\n",
        "    all_products = data[\"productId\"].unique()\n",
        "    products_to_predict = [prod for prod in all_products if prod not in user_ratings]\n",
        "\n",
        "    predictions = [model.predict(user_id, prod) for prod in products_to_predict]\n",
        "    predictions.sort(key=lambda x: x.est, reverse=True)\n",
        "    return predictions[:n]\n"
      ],
      "metadata": {
        "id": "2MlGLXt1iIKy"
      },
      "execution_count": 16,
      "outputs": []
    },
    {
      "cell_type": "code",
      "source": [
        "user_id = data[\"userId\"].iloc[0]\n",
        "recommendations = get_recommendations(model_user, user_id)\n",
        "print(f\"\\nTop 5 Recommendations for User {user_id}:\")\n",
        "for rec in recommendations:\n",
        "    print(f\"Product ID: {rec.iid}, Predicted Rating: {rec.est:.2f}\")"
      ],
      "metadata": {
        "id": "G94gSTFMiIN1",
        "colab": {
          "base_uri": "https://localhost:8080/"
        },
        "outputId": "26fe9333-bf60-4d30-ce7d-e6d93cf7d237"
      },
      "execution_count": 17,
      "outputs": [
        {
          "output_type": "stream",
          "name": "stdout",
          "text": [
            "\n",
            "Top 5 Recommendations for User A2CX7LUOHB2NDG:\n",
            "Product ID: 0439886341, Predicted Rating: 4.03\n",
            "Product ID: 0511189877, Predicted Rating: 4.03\n",
            "Product ID: 0528881469, Predicted Rating: 4.03\n",
            "Product ID: 0558835155, Predicted Rating: 4.03\n",
            "Product ID: 059400232X, Predicted Rating: 4.03\n"
          ]
        }
      ]
    },
    {
      "cell_type": "code",
      "source": [],
      "metadata": {
        "id": "TGoh779JiIRm"
      },
      "execution_count": null,
      "outputs": []
    },
    {
      "cell_type": "code",
      "source": [],
      "metadata": {
        "id": "kNw7ir3ZiIV9"
      },
      "execution_count": null,
      "outputs": []
    },
    {
      "cell_type": "code",
      "source": [],
      "metadata": {
        "id": "9_zBO9zKiIY0"
      },
      "execution_count": null,
      "outputs": []
    },
    {
      "cell_type": "code",
      "source": [],
      "metadata": {
        "id": "LBhtqI6uiIbq"
      },
      "execution_count": null,
      "outputs": []
    },
    {
      "cell_type": "code",
      "source": [],
      "metadata": {
        "id": "lSzK03iBiIeh"
      },
      "execution_count": null,
      "outputs": []
    },
    {
      "cell_type": "code",
      "source": [],
      "metadata": {
        "id": "kVRf8EHkiIhV"
      },
      "execution_count": null,
      "outputs": []
    },
    {
      "cell_type": "code",
      "source": [],
      "metadata": {
        "id": "l1hq5i1iiIkP"
      },
      "execution_count": null,
      "outputs": []
    },
    {
      "cell_type": "code",
      "source": [],
      "metadata": {
        "id": "OSv_e4kIiIni"
      },
      "execution_count": null,
      "outputs": []
    }
  ]
}