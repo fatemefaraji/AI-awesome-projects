{
  "nbformat": 4,
  "nbformat_minor": 0,
  "metadata": {
    "colab": {
      "provenance": []
    },
    "kernelspec": {
      "name": "python3",
      "display_name": "Python 3"
    },
    "language_info": {
      "name": "python"
    }
  },
  "cells": [
    {
      "cell_type": "code",
      "execution_count": 5,
      "metadata": {
        "id": "YH6bYOaRSsd_"
      },
      "outputs": [],
      "source": [
        "import pandas as pd\n",
        "import numpy as np\n",
        "from sklearn.model_selection import train_test_split\n",
        "from sklearn.linear_model import LinearRegression, Ridge, Lasso, ElasticNet\n",
        "from sklearn.metrics import mean_squared_error, r2_score\n",
        "import matplotlib.pyplot as plt\n",
        "import kagglehub"
      ]
    },
    {
      "cell_type": "code",
      "source": [
        "try:\n",
        "    path = kagglehub.dataset_download(\"kushsheth/uber-ride-price-prediction\")\n",
        "    print(\"Dataset downloaded to:\", path)\n",
        "except Exception as e:\n",
        "    print(\"Error downloading dataset:\", e)"
      ],
      "metadata": {
        "colab": {
          "base_uri": "https://localhost:8080/"
        },
        "id": "yLW4pPP3S8-h",
        "outputId": "f71115d1-1d7c-4f58-8bdd-63169fe9201c"
      },
      "execution_count": 19,
      "outputs": [
        {
          "output_type": "stream",
          "name": "stdout",
          "text": [
            "Warning: Looks like you're using an outdated `kagglehub` version (installed: 0.3.5), please consider upgrading to the latest version (0.3.6).\n",
            "Dataset downloaded to: /root/.cache/kagglehub/datasets/kushsheth/uber-ride-price-prediction/versions/1\n"
          ]
        }
      ]
    },
    {
      "cell_type": "code",
      "source": [
        "import pandas as pd\n",
        "file_path = '/root/.cache/kagglehub/datasets/kushsheth/uber-ride-price-prediction/versions/1/uber.csv'\n",
        "\n",
        "df = pd.read_csv(file_path)\n",
        "print(df.head())\n"
      ],
      "metadata": {
        "colab": {
          "base_uri": "https://localhost:8080/"
        },
        "id": "CyZjqlqtVljL",
        "outputId": "9a05bcd8-e583-4ce8-82a3-67378538c3f9"
      },
      "execution_count": 21,
      "outputs": [
        {
          "output_type": "stream",
          "name": "stdout",
          "text": [
            "   Unnamed: 0      key  fare_amount          pickup_datetime  \\\n",
            "0    24238194  52:06.0          7.5  2015-05-07 19:52:06 UTC   \n",
            "1    27835199  04:56.0          7.7  2009-07-17 20:04:56 UTC   \n",
            "2    44984355  45:00.0         12.9  2009-08-24 21:45:00 UTC   \n",
            "3    25894730  22:21.0          5.3  2009-06-26 08:22:21 UTC   \n",
            "4    17610152  47:00.0         16.0  2014-08-28 17:47:00 UTC   \n",
            "\n",
            "   pickup_longitude  pickup_latitude  dropoff_longitude  dropoff_latitude  \\\n",
            "0        -73.999817        40.738354         -73.999512         40.723217   \n",
            "1        -73.994355        40.728225         -73.994710         40.750325   \n",
            "2        -74.005043        40.740770         -73.962565         40.772647   \n",
            "3        -73.976124        40.790844         -73.965316         40.803349   \n",
            "4        -73.925023        40.744085         -73.973082         40.761247   \n",
            "\n",
            "   passenger_count  \n",
            "0                1  \n",
            "1                1  \n",
            "2                1  \n",
            "3                3  \n",
            "4                5  \n"
          ]
        }
      ]
    },
    {
      "cell_type": "code",
      "source": [
        "df.dropna(inplace=True)"
      ],
      "metadata": {
        "id": "c6Aafq-9Vlm4"
      },
      "execution_count": 22,
      "outputs": []
    },
    {
      "cell_type": "code",
      "source": [
        "df['pickup_datetime'] = pd.to_datetime(df['pickup_datetime'])"
      ],
      "metadata": {
        "id": "57nw5pElVlqi"
      },
      "execution_count": 23,
      "outputs": []
    },
    {
      "cell_type": "code",
      "source": [
        "df['hour'] = df['pickup_datetime'].dt.hour\n",
        "df['day_of_week'] = df['pickup_datetime'].dt.dayofweek\n",
        "df['month'] = df['pickup_datetime'].dt.month"
      ],
      "metadata": {
        "id": "4mxK5hf-Vlt8"
      },
      "execution_count": 24,
      "outputs": []
    },
    {
      "cell_type": "code",
      "source": [
        "def haversine(lon1, lat1, lon2, lat2):\n",
        "    lon1, lat1, lon2, lat2 = map(np.radians, [lon1, lat1, lon2, lat2])\n",
        "    dlon = lon2 - lon1\n",
        "    dlat = lat2 - lat1\n",
        "    a = np.sin(dlat/2)**2 + np.cos(lat1) * np.cos(lat2) * np.sin(dlon/2)**2\n",
        "    c = 2 * np.arcsin(np.sqrt(a))\n",
        "    km = 6371 * c\n",
        "    return km\n",
        "\n",
        "df['distance_km'] = haversine(df['pickup_longitude'], df['pickup_latitude'],\n",
        "                              df['dropoff_longitude'], df['dropoff_latitude'])\n"
      ],
      "metadata": {
        "id": "5gDUQ6MdVlw6"
      },
      "execution_count": 25,
      "outputs": []
    },
    {
      "cell_type": "code",
      "source": [
        "df = df[(df['fare_amount'] > 0) & (df['distance_km'] > 0)]"
      ],
      "metadata": {
        "id": "XlRnajA2Vl0s"
      },
      "execution_count": 26,
      "outputs": []
    },
    {
      "cell_type": "code",
      "source": [
        "df['is_weekend'] = df['day_of_week'].apply(lambda x: 1 if x >= 5 else 0)\n",
        "df['is_rush_hour'] = df['hour'].apply(lambda x: 1 if (7 <= x <= 10) or (16 <= x <= 19) else 0)\n",
        "df['distance_km_squared'] = df['distance_km'] ** 2\n"
      ],
      "metadata": {
        "id": "UtwHIgXGVl33"
      },
      "execution_count": 27,
      "outputs": []
    },
    {
      "cell_type": "code",
      "source": [
        "features = ['distance_km', 'distance_km_squared', 'hour', 'day_of_week', 'month', 'is_weekend', 'is_rush_hour']\n",
        "X = df[features]\n",
        "y = df['fare_amount']"
      ],
      "metadata": {
        "id": "HX9r6hkXVl68"
      },
      "execution_count": 28,
      "outputs": []
    },
    {
      "cell_type": "code",
      "source": [
        "X_train, X_test, y_train, y_test = train_test_split(X, y, test_size=0.3, random_state=42)\n"
      ],
      "metadata": {
        "id": "VVZ7IWBFVl9j"
      },
      "execution_count": 29,
      "outputs": []
    },
    {
      "cell_type": "code",
      "source": [
        "models = {\n",
        "    'Linear Regression': LinearRegression(),\n",
        "    'Ridge Regression': Ridge(alpha=1.0),\n",
        "    'Lasso Regression': Lasso(alpha=0.1),\n",
        "    'ElasticNet Regression': ElasticNet(alpha=0.1, l1_ratio=0.5)\n",
        "}\n",
        "\n",
        "results = {}\n",
        "\n",
        "for name, model in models.items():\n",
        "    model.fit(X_train, y_train)\n",
        "    y_pred = model.predict(X_test)\n",
        "    rmse = np.sqrt(mean_squared_error(y_test, y_pred))\n",
        "    r2 = r2_score(y_test, y_pred)\n",
        "    results[name] = {'RMSE': rmse, 'R2': r2}\n"
      ],
      "metadata": {
        "id": "8nUnGZtTVl_7"
      },
      "execution_count": 30,
      "outputs": []
    },
    {
      "cell_type": "code",
      "source": [
        "for name, metrics in results.items():\n",
        "    print(f\"{name} - RMSE: {metrics['RMSE']:.4f}, R2: {metrics['R2']:.4f}\")\n"
      ],
      "metadata": {
        "colab": {
          "base_uri": "https://localhost:8080/"
        },
        "id": "l3-jSPFWVmCO",
        "outputId": "3c9bfbc3-12fa-4fee-bcf8-b005105f1f3f"
      },
      "execution_count": 31,
      "outputs": [
        {
          "output_type": "stream",
          "name": "stdout",
          "text": [
            "Linear Regression - RMSE: 9.6130, R2: 0.0065\n",
            "Ridge Regression - RMSE: 9.6130, R2: 0.0065\n",
            "Lasso Regression - RMSE: 9.6172, R2: 0.0057\n",
            "ElasticNet Regression - RMSE: 9.6152, R2: 0.0061\n"
          ]
        }
      ]
    },
    {
      "cell_type": "code",
      "source": [
        "labels = list(results.keys())\n",
        "rmse_values = [metrics['RMSE'] for metrics in results.values()]\n",
        "r2_values = [metrics['R2'] for metrics in results.values()]\n",
        "\n",
        "x = np.arange(len(labels))\n",
        "\n",
        "plt.figure(figsize=(10, 5))\n",
        "plt.bar(x - 0.2, rmse_values, 0.4, label='RMSE')\n",
        "plt.bar(x + 0.2, r2_values, 0.4, label='R2')\n",
        "\n",
        "plt.xlabel('Model')\n",
        "plt.ylabel('Metrics')\n",
        "plt.title('Model Performance Comparison')\n",
        "plt.xticks(x, labels, rotation=45)\n",
        "plt.legend()\n",
        "plt.show()"
      ],
      "metadata": {
        "colab": {
          "base_uri": "https://localhost:8080/",
          "height": 589
        },
        "id": "Gvln2ivAXrVV",
        "outputId": "7a9839f0-194b-4300-fc96-aa3777031e88"
      },
      "execution_count": 32,
      "outputs": [
        {
          "output_type": "display_data",
          "data": {
            "text/plain": [
              "<Figure size 1000x500 with 1 Axes>"
            ],
            "image/png": "[encoded data removed]"
          },
          "metadata": {}
        }
      ]
    },
    {
      "cell_type": "code",
      "source": [],
      "metadata": {
        "id": "mmN_-0LmXrXE"
      },
      "execution_count": null,
      "outputs": []
    },
    {
      "cell_type": "code",
      "source": [],
      "metadata": {
        "id": "oryzt_0sXraa"
      },
      "execution_count": null,
      "outputs": []
    },
    {
      "cell_type": "code",
      "source": [],
      "metadata": {
        "id": "CRyOhkW1Xrch"
      },
      "execution_count": null,
      "outputs": []
    }
  ]
}